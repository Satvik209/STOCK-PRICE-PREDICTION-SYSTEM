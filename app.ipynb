{
 "cells": [
  {
   "cell_type": "code",
   "execution_count": 6,
   "id": "26a94fcd",
   "metadata": {},
   "outputs": [],
   "source": [
    "import numpy as np \n",
    "import pandas as pd\n",
    "import matplotlib.pyplot as plt\n",
    "import pandas_datareader as data "
   ]
  },
  {
   "cell_type": "code",
   "execution_count": 1,
   "id": "1ab038f5",
   "metadata": {
    "scrolled": true
   },
   "outputs": [
    {
     "name": "stderr",
     "output_type": "stream",
     "text": [
      "2023-08-10 16:52:51.083 \n",
      "  \u001b[33m\u001b[1mWarning:\u001b[0m to view this Streamlit app on a browser, run it with the following\n",
      "  command:\n",
      "\n",
      "    streamlit run C:\\Users\\satvi\\anaconda3\\Lib\\site-packages\\ipykernel_launcher.py [ARGUMENTS]\n"
     ]
    },
    {
     "ename": "NameError",
     "evalue": "name 'data' is not defined",
     "output_type": "error",
     "traceback": [
      "\u001b[1;31m---------------------------------------------------------------------------\u001b[0m",
      "\u001b[1;31mNameError\u001b[0m                                 Traceback (most recent call last)",
      "Cell \u001b[1;32mIn[1], line 11\u001b[0m\n\u001b[0;32m      7\u001b[0m st\u001b[38;5;241m.\u001b[39mtitle(\u001b[38;5;124m'\u001b[39m\u001b[38;5;124mStock Trend Prediction\u001b[39m\u001b[38;5;124m'\u001b[39m)\n\u001b[0;32m      9\u001b[0m user_input\u001b[38;5;241m=\u001b[39mst\u001b[38;5;241m.\u001b[39mtext_input(\u001b[38;5;124m'\u001b[39m\u001b[38;5;124mEnter Stock Ticker\u001b[39m\u001b[38;5;124m'\u001b[39m,\u001b[38;5;124m'\u001b[39m\u001b[38;5;124mAAPL\u001b[39m\u001b[38;5;124m'\u001b[39m)\n\u001b[1;32m---> 11\u001b[0m df \u001b[38;5;241m=\u001b[39mdata\u001b[38;5;241m.\u001b[39mDataReader(user_input,\u001b[38;5;124m'\u001b[39m\u001b[38;5;124myahoo\u001b[39m\u001b[38;5;124m'\u001b[39m,start,end)\n\u001b[0;32m     13\u001b[0m \u001b[38;5;66;03m#Describe Data\u001b[39;00m\n\u001b[0;32m     14\u001b[0m st\u001b[38;5;241m.\u001b[39msubheader(\u001b[38;5;124m'\u001b[39m\u001b[38;5;124mData From January 2010 - September 2022\u001b[39m\u001b[38;5;124m'\u001b[39m)\n",
      "\u001b[1;31mNameError\u001b[0m: name 'data' is not defined"
     ]
    }
   ],
   "source": [
    "\n",
    "from keras.models import load_model\n",
    "import streamlit as st\n",
    "\n",
    "start ='2010-01-01'\n",
    "end = '2022-09-30'\n",
    "\n",
    "st.title('Stock Trend Prediction')\n",
    "\n",
    "user_input=st.text_input('Enter Stock Ticker','AAPL')\n",
    "\n",
    "df =data.DataReader(user_input,'yahoo',start,end)\n",
    "\n",
    "#Describe Data\n",
    "st.subheader('Data From January 2010 - September 2022')\n",
    "st.write(df.describe())\n",
    "\n",
    "#Visualization\n",
    "st.subheader('Closing Price vs Time Chart with 100MA')\n",
    "ma100 = df.Close.rolling(100).mean()\n",
    "fig=plt.figure(figsize=(12,6))\n",
    "plt.plot(ma100,'r')\n",
    "plt.plot(df.Close)\n",
    "st.pyplot(fig)\n",
    "\n",
    "st.subheader('Closing Price vs Time Chart with 100MA')\n",
    "ma100 = df.Close.rolling(100).mean()\n",
    "ma200 = df.Close.rolling(200).mean()\n",
    "fig=plt.figure(figsize=(12,6))\n",
    "plt.plot(ma100,'r')\n",
    "plt.plot(ma200,'g')\n",
    "plt.plot(df.Close)\n",
    "st.pyplot(fig)\n",
    "\n",
    "# Splitting Data into Training and Testing\n",
    "\n",
    "data_training = pd.DataFrame(df['Close'[0:int(len(df)*0.70)]])\n",
    "data_testing = pd.DataFrame(df['Close'][int(len(df)*0.70): int(len(df))])\n",
    "\n",
    "from sklearn.preprocessing import MinMaxScaler\n",
    "scaler = MinMaxScaler(feature_range=(0,1))\n",
    "\n",
    "data_training_array = scaler.fit_transform(data_training)\n",
    "\n",
    "\n",
    "#load my model\n",
    "model=load_model('keras_model1.h5')\n",
    "\n",
    "#Testing Part\n",
    "\n",
    "final_df=[]\n",
    "past_100_days = data_training.tail(100)\n",
    "df1 = pd.DataFrame(data_testing)\n",
    "final_df = pd.concat([df1, final_df])\n",
    "input_data = scaler.fit_transform(final_df)\n",
    "\n",
    "x_test =[]\n",
    "y_test =[]\n",
    "\n",
    "for i in range(100,input_data.shape[0]):\n",
    "    x_test.append(input_data[i-100: i])\n",
    "    y_test.append(input_data[i,0])\n",
    "\n",
    "x_test, y_test =np.array(x_test), np.array(y_test)\n",
    "\n",
    "y_predicted=model.predict(x_test)\n",
    "scaler=scaler.scale_\n",
    "\n",
    "scale_factor=1/scaler[0]\n",
    "y_predicted=y_predicted*scale_factor\n",
    "y_test =y_test*scale_factor\n",
    "\n",
    "\n",
    "#Final Graph\n",
    "\n",
    "st.subheader('Prediction vs Original')\n",
    "fig2=plt.figure(figsize=(12,6))\n",
    "plt.plot(y_test,'b',label='Original Price')\n",
    "plt.plot(y_predicted,'r',label='Predicted Price')\n",
    "plt.xlabel('Time')\n",
    "plt.ylabel('Price')\n",
    "plt.legend()\n",
    "st.pyplot(fig2)"
   ]
  },
  {
   "cell_type": "code",
   "execution_count": null,
   "id": "4b02c96b",
   "metadata": {},
   "outputs": [],
   "source": []
  }
 ],
 "metadata": {
  "kernelspec": {
   "display_name": "Python 3 (ipykernel)",
   "language": "python",
   "name": "python3"
  },
  "language_info": {
   "codemirror_mode": {
    "name": "ipython",
    "version": 3
   },
   "file_extension": ".py",
   "mimetype": "text/x-python",
   "name": "python",
   "nbconvert_exporter": "python",
   "pygments_lexer": "ipython3",
   "version": "3.11.3"
  }
 },
 "nbformat": 4,
 "nbformat_minor": 5
}
